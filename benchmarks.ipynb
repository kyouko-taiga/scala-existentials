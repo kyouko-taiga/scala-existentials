{
 "cells": [
  {
   "cell_type": "code",
   "execution_count": 1,
   "metadata": {},
   "outputs": [],
   "source": [
    "import re\n",
    "import glob\n",
    "import os\n",
    "import json\n",
    "import pandas as pd\n",
    "import plotly.express as px\n",
    "import matplotlib.pyplot as plt\n",
    "import seaborn as sns\n"
   ]
  },
  {
   "cell_type": "code",
   "execution_count": 2,
   "metadata": {},
   "outputs": [],
   "source": [
    "dispatch_dfs = []\n",
    "rays_dfs = []"
   ]
  },
  {
   "cell_type": "code",
   "execution_count": 3,
   "metadata": {},
   "outputs": [],
   "source": [
    "# Process Swift DispatchBenchmark files\n",
    "for file in glob.glob('benchmark-results/Current_run.DispatchBenchmark.*.wallClock.histogram.samples.tsv'):\n",
    "    # Extract Class count and version from filename\n",
    "    base = os.path.basename(file)\n",
    "    # Example file name:\n",
    "    # Current_run.DispatchBenchmark.dispatchExistential(classCount:14).wallClock.histogram.samples.tsv\n",
    "    m = re.search(r'DispatchBenchmark.dispatch([A-Za-z]+)\\(classCount:([0-9]+)\\)', base)\n",
    "\n",
    "    # Read the TSV file into a DataFrame\n",
    "    df = pd.read_csv(file, sep='\\t').rename(columns={'Time (wall clock) (μs)': 'Time (μs)'})\n",
    "\n",
    "    # Add params columns\n",
    "    df['Class count'] = int(m.group(2))\n",
    "    df['version'] = \"Swift \" + m.group(1)\n",
    "\n",
    "    # Append to the list of DataFrames\n",
    "    dispatch_dfs.append(df)"
   ]
  },
  {
   "cell_type": "code",
   "execution_count": 4,
   "metadata": {},
   "outputs": [],
   "source": [
    "# Process Swift RaysBenchmark files\n",
    "for file in glob.glob('benchmark-results/Current_run.RaysBenchmark.*.wallClock.histogram.samples.tsv'):\n",
    "    # Extract Class count and version from filename\n",
    "    base = os.path.basename(file)\n",
    "    # Example file name:\n",
    "    # Current_run.RaysBenchmark.runExistential(shapeCount:1000).wallClock.histogram.samples.tsv\n",
    "    m = re.search(r'RaysBenchmark.run([A-Za-z]+)\\(shapeCount:([0-9]+)\\)', base)\n",
    "\n",
    "    # Read the TSV file into a DataFrame\n",
    "    df = pd.read_csv(file, sep='\\t').rename(columns={'Time (wall clock) (μs)': 'Time (μs)'})\n",
    "\n",
    "    # Add params columns\n",
    "    df['version'] = \"Swift \" + m.group(1)\n",
    "\n",
    "    # Append to the list of DataFrames\n",
    "    rays_dfs.append(df)"
   ]
  },
  {
   "cell_type": "code",
   "execution_count": 5,
   "metadata": {},
   "outputs": [],
   "source": [
    "# Process JMH file\n",
    "for bench in json.load(open('benchmark-results/scala.json')):\n",
    "    name_parts = bench[\"benchmark\"].split('.')\n",
    "    values = [int(x) for x in bench[\"primaryMetric\"][\"rawData\"][0]] # converts to ints for coherence with Swift\n",
    "    df = pd.DataFrame(values, columns=['Time (μs)'])\n",
    "    if name_parts[2] == \"DispatchBenchmark\":\n",
    "        df['Class count'] = int(bench[\"params\"][\"classCount\"])\n",
    "        df['version'] = \"Scala \" + name_parts[-1][9:] # removes the \"benchmark\" prefix\n",
    "        dispatch_dfs.append(df)\n",
    "    elif name_parts[2] == \"RaysBenchmark\":\n",
    "        df['version'] = \"Scala \" + name_parts[-1][9:] # removes the \"benchmark\" prefix\n",
    "        rays_dfs.append(df)\n",
    "        "
   ]
  },
  {
   "cell_type": "code",
   "execution_count": 6,
   "metadata": {},
   "outputs": [
    {
     "data": {
      "text/html": [
       "<div>\n",
       "<style scoped>\n",
       "    .dataframe tbody tr th:only-of-type {\n",
       "        vertical-align: middle;\n",
       "    }\n",
       "\n",
       "    .dataframe tbody tr th {\n",
       "        vertical-align: top;\n",
       "    }\n",
       "\n",
       "    .dataframe thead th {\n",
       "        text-align: right;\n",
       "    }\n",
       "</style>\n",
       "<table border=\"1\" class=\"dataframe\">\n",
       "  <thead>\n",
       "    <tr style=\"text-align: right;\">\n",
       "      <th></th>\n",
       "      <th>Time (μs)</th>\n",
       "      <th>Class count</th>\n",
       "      <th>version</th>\n",
       "    </tr>\n",
       "  </thead>\n",
       "  <tbody>\n",
       "    <tr>\n",
       "      <th>0</th>\n",
       "      <td>4960</td>\n",
       "      <td>2</td>\n",
       "      <td>Swift Existential</td>\n",
       "    </tr>\n",
       "    <tr>\n",
       "      <th>1</th>\n",
       "      <td>4964</td>\n",
       "      <td>2</td>\n",
       "      <td>Swift Existential</td>\n",
       "    </tr>\n",
       "    <tr>\n",
       "      <th>2</th>\n",
       "      <td>4968</td>\n",
       "      <td>2</td>\n",
       "      <td>Swift Existential</td>\n",
       "    </tr>\n",
       "    <tr>\n",
       "      <th>3</th>\n",
       "      <td>4997</td>\n",
       "      <td>2</td>\n",
       "      <td>Swift Existential</td>\n",
       "    </tr>\n",
       "    <tr>\n",
       "      <th>4</th>\n",
       "      <td>5026</td>\n",
       "      <td>2</td>\n",
       "      <td>Swift Existential</td>\n",
       "    </tr>\n",
       "    <tr>\n",
       "      <th>...</th>\n",
       "      <td>...</td>\n",
       "      <td>...</td>\n",
       "      <td>...</td>\n",
       "    </tr>\n",
       "    <tr>\n",
       "      <th>395</th>\n",
       "      <td>5015</td>\n",
       "      <td>20</td>\n",
       "      <td>Scala Inheritance</td>\n",
       "    </tr>\n",
       "    <tr>\n",
       "      <th>396</th>\n",
       "      <td>4369</td>\n",
       "      <td>20</td>\n",
       "      <td>Scala Inheritance</td>\n",
       "    </tr>\n",
       "    <tr>\n",
       "      <th>397</th>\n",
       "      <td>4381</td>\n",
       "      <td>20</td>\n",
       "      <td>Scala Inheritance</td>\n",
       "    </tr>\n",
       "    <tr>\n",
       "      <th>398</th>\n",
       "      <td>4323</td>\n",
       "      <td>20</td>\n",
       "      <td>Scala Inheritance</td>\n",
       "    </tr>\n",
       "    <tr>\n",
       "      <th>399</th>\n",
       "      <td>4818</td>\n",
       "      <td>20</td>\n",
       "      <td>Scala Inheritance</td>\n",
       "    </tr>\n",
       "  </tbody>\n",
       "</table>\n",
       "<p>400 rows × 3 columns</p>\n",
       "</div>"
      ],
      "text/plain": [
       "     Time (μs)  Class count            version\n",
       "0         4960            2  Swift Existential\n",
       "1         4964            2  Swift Existential\n",
       "2         4968            2  Swift Existential\n",
       "3         4997            2  Swift Existential\n",
       "4         5026            2  Swift Existential\n",
       "..         ...          ...                ...\n",
       "395       5015           20  Scala Inheritance\n",
       "396       4369           20  Scala Inheritance\n",
       "397       4381           20  Scala Inheritance\n",
       "398       4323           20  Scala Inheritance\n",
       "399       4818           20  Scala Inheritance\n",
       "\n",
       "[400 rows x 3 columns]"
      ]
     },
     "execution_count": 6,
     "metadata": {},
     "output_type": "execute_result"
    }
   ],
   "source": [
    "dispatch = pd.concat(dispatch_dfs, ignore_index=True)\n",
    "dispatch"
   ]
  },
  {
   "cell_type": "code",
   "execution_count": 7,
   "metadata": {},
   "outputs": [
    {
     "data": {
      "text/html": [
       "<div>\n",
       "<style scoped>\n",
       "    .dataframe tbody tr th:only-of-type {\n",
       "        vertical-align: middle;\n",
       "    }\n",
       "\n",
       "    .dataframe tbody tr th {\n",
       "        vertical-align: top;\n",
       "    }\n",
       "\n",
       "    .dataframe thead th {\n",
       "        text-align: right;\n",
       "    }\n",
       "</style>\n",
       "<table border=\"1\" class=\"dataframe\">\n",
       "  <thead>\n",
       "    <tr style=\"text-align: right;\">\n",
       "      <th></th>\n",
       "      <th>Time (μs)</th>\n",
       "      <th>version</th>\n",
       "    </tr>\n",
       "  </thead>\n",
       "  <tbody>\n",
       "    <tr>\n",
       "      <th>0</th>\n",
       "      <td>24510</td>\n",
       "      <td>Swift Existential</td>\n",
       "    </tr>\n",
       "    <tr>\n",
       "      <th>1</th>\n",
       "      <td>24674</td>\n",
       "      <td>Swift Existential</td>\n",
       "    </tr>\n",
       "    <tr>\n",
       "      <th>2</th>\n",
       "      <td>24887</td>\n",
       "      <td>Swift Existential</td>\n",
       "    </tr>\n",
       "    <tr>\n",
       "      <th>3</th>\n",
       "      <td>24904</td>\n",
       "      <td>Swift Existential</td>\n",
       "    </tr>\n",
       "    <tr>\n",
       "      <th>4</th>\n",
       "      <td>25166</td>\n",
       "      <td>Swift Existential</td>\n",
       "    </tr>\n",
       "    <tr>\n",
       "      <th>5</th>\n",
       "      <td>25166</td>\n",
       "      <td>Swift Existential</td>\n",
       "    </tr>\n",
       "    <tr>\n",
       "      <th>6</th>\n",
       "      <td>25199</td>\n",
       "      <td>Swift Existential</td>\n",
       "    </tr>\n",
       "    <tr>\n",
       "      <th>7</th>\n",
       "      <td>25362</td>\n",
       "      <td>Swift Existential</td>\n",
       "    </tr>\n",
       "    <tr>\n",
       "      <th>8</th>\n",
       "      <td>25362</td>\n",
       "      <td>Swift Existential</td>\n",
       "    </tr>\n",
       "    <tr>\n",
       "      <th>9</th>\n",
       "      <td>25575</td>\n",
       "      <td>Swift Existential</td>\n",
       "    </tr>\n",
       "    <tr>\n",
       "      <th>10</th>\n",
       "      <td>34898</td>\n",
       "      <td>Swift Inheritance</td>\n",
       "    </tr>\n",
       "    <tr>\n",
       "      <th>11</th>\n",
       "      <td>35488</td>\n",
       "      <td>Swift Inheritance</td>\n",
       "    </tr>\n",
       "    <tr>\n",
       "      <th>12</th>\n",
       "      <td>35619</td>\n",
       "      <td>Swift Inheritance</td>\n",
       "    </tr>\n",
       "    <tr>\n",
       "      <th>13</th>\n",
       "      <td>35815</td>\n",
       "      <td>Swift Inheritance</td>\n",
       "    </tr>\n",
       "    <tr>\n",
       "      <th>14</th>\n",
       "      <td>36143</td>\n",
       "      <td>Swift Inheritance</td>\n",
       "    </tr>\n",
       "    <tr>\n",
       "      <th>15</th>\n",
       "      <td>36405</td>\n",
       "      <td>Swift Inheritance</td>\n",
       "    </tr>\n",
       "    <tr>\n",
       "      <th>16</th>\n",
       "      <td>36438</td>\n",
       "      <td>Swift Inheritance</td>\n",
       "    </tr>\n",
       "    <tr>\n",
       "      <th>17</th>\n",
       "      <td>37356</td>\n",
       "      <td>Swift Inheritance</td>\n",
       "    </tr>\n",
       "    <tr>\n",
       "      <th>18</th>\n",
       "      <td>44827</td>\n",
       "      <td>Swift Inheritance</td>\n",
       "    </tr>\n",
       "    <tr>\n",
       "      <th>19</th>\n",
       "      <td>45908</td>\n",
       "      <td>Swift Inheritance</td>\n",
       "    </tr>\n",
       "    <tr>\n",
       "      <th>20</th>\n",
       "      <td>48018</td>\n",
       "      <td>Scala Existential</td>\n",
       "    </tr>\n",
       "    <tr>\n",
       "      <th>21</th>\n",
       "      <td>47007</td>\n",
       "      <td>Scala Existential</td>\n",
       "    </tr>\n",
       "    <tr>\n",
       "      <th>22</th>\n",
       "      <td>49499</td>\n",
       "      <td>Scala Existential</td>\n",
       "    </tr>\n",
       "    <tr>\n",
       "      <th>23</th>\n",
       "      <td>48869</td>\n",
       "      <td>Scala Existential</td>\n",
       "    </tr>\n",
       "    <tr>\n",
       "      <th>24</th>\n",
       "      <td>47449</td>\n",
       "      <td>Scala Existential</td>\n",
       "    </tr>\n",
       "    <tr>\n",
       "      <th>25</th>\n",
       "      <td>47201</td>\n",
       "      <td>Scala Existential</td>\n",
       "    </tr>\n",
       "    <tr>\n",
       "      <th>26</th>\n",
       "      <td>47670</td>\n",
       "      <td>Scala Existential</td>\n",
       "    </tr>\n",
       "    <tr>\n",
       "      <th>27</th>\n",
       "      <td>47737</td>\n",
       "      <td>Scala Existential</td>\n",
       "    </tr>\n",
       "    <tr>\n",
       "      <th>28</th>\n",
       "      <td>47509</td>\n",
       "      <td>Scala Existential</td>\n",
       "    </tr>\n",
       "    <tr>\n",
       "      <th>29</th>\n",
       "      <td>47479</td>\n",
       "      <td>Scala Existential</td>\n",
       "    </tr>\n",
       "    <tr>\n",
       "      <th>30</th>\n",
       "      <td>46132</td>\n",
       "      <td>Scala Inheritance</td>\n",
       "    </tr>\n",
       "    <tr>\n",
       "      <th>31</th>\n",
       "      <td>46808</td>\n",
       "      <td>Scala Inheritance</td>\n",
       "    </tr>\n",
       "    <tr>\n",
       "      <th>32</th>\n",
       "      <td>43777</td>\n",
       "      <td>Scala Inheritance</td>\n",
       "    </tr>\n",
       "    <tr>\n",
       "      <th>33</th>\n",
       "      <td>45339</td>\n",
       "      <td>Scala Inheritance</td>\n",
       "    </tr>\n",
       "    <tr>\n",
       "      <th>34</th>\n",
       "      <td>44487</td>\n",
       "      <td>Scala Inheritance</td>\n",
       "    </tr>\n",
       "    <tr>\n",
       "      <th>35</th>\n",
       "      <td>44051</td>\n",
       "      <td>Scala Inheritance</td>\n",
       "    </tr>\n",
       "    <tr>\n",
       "      <th>36</th>\n",
       "      <td>44470</td>\n",
       "      <td>Scala Inheritance</td>\n",
       "    </tr>\n",
       "    <tr>\n",
       "      <th>37</th>\n",
       "      <td>44834</td>\n",
       "      <td>Scala Inheritance</td>\n",
       "    </tr>\n",
       "    <tr>\n",
       "      <th>38</th>\n",
       "      <td>47830</td>\n",
       "      <td>Scala Inheritance</td>\n",
       "    </tr>\n",
       "    <tr>\n",
       "      <th>39</th>\n",
       "      <td>51019</td>\n",
       "      <td>Scala Inheritance</td>\n",
       "    </tr>\n",
       "  </tbody>\n",
       "</table>\n",
       "</div>"
      ],
      "text/plain": [
       "    Time (μs)            version\n",
       "0       24510  Swift Existential\n",
       "1       24674  Swift Existential\n",
       "2       24887  Swift Existential\n",
       "3       24904  Swift Existential\n",
       "4       25166  Swift Existential\n",
       "5       25166  Swift Existential\n",
       "6       25199  Swift Existential\n",
       "7       25362  Swift Existential\n",
       "8       25362  Swift Existential\n",
       "9       25575  Swift Existential\n",
       "10      34898  Swift Inheritance\n",
       "11      35488  Swift Inheritance\n",
       "12      35619  Swift Inheritance\n",
       "13      35815  Swift Inheritance\n",
       "14      36143  Swift Inheritance\n",
       "15      36405  Swift Inheritance\n",
       "16      36438  Swift Inheritance\n",
       "17      37356  Swift Inheritance\n",
       "18      44827  Swift Inheritance\n",
       "19      45908  Swift Inheritance\n",
       "20      48018  Scala Existential\n",
       "21      47007  Scala Existential\n",
       "22      49499  Scala Existential\n",
       "23      48869  Scala Existential\n",
       "24      47449  Scala Existential\n",
       "25      47201  Scala Existential\n",
       "26      47670  Scala Existential\n",
       "27      47737  Scala Existential\n",
       "28      47509  Scala Existential\n",
       "29      47479  Scala Existential\n",
       "30      46132  Scala Inheritance\n",
       "31      46808  Scala Inheritance\n",
       "32      43777  Scala Inheritance\n",
       "33      45339  Scala Inheritance\n",
       "34      44487  Scala Inheritance\n",
       "35      44051  Scala Inheritance\n",
       "36      44470  Scala Inheritance\n",
       "37      44834  Scala Inheritance\n",
       "38      47830  Scala Inheritance\n",
       "39      51019  Scala Inheritance"
      ]
     },
     "execution_count": 7,
     "metadata": {},
     "output_type": "execute_result"
    }
   ],
   "source": [
    "rays = pd.concat(rays_dfs, ignore_index=True)\n",
    "rays"
   ]
  },
  {
   "cell_type": "code",
   "execution_count": 8,
   "metadata": {},
   "outputs": [
    {
     "data": {
      "application/vnd.plotly.v1+json": {
       "config": {
        "plotlyServerURL": "https://plot.ly"
       },
       "data": [
        {
         "alignmentgroup": "True",
         "hovertemplate": "version=Swift Existential<br>Class count=%{x}<br>Time (μs)=%{y}<extra></extra>",
         "legendgroup": "Swift Existential",
         "marker": {
          "color": "#636efa"
         },
         "name": "Swift Existential",
         "notched": false,
         "offsetgroup": "Swift Existential",
         "orientation": "v",
         "showlegend": true,
         "type": "box",
         "x": [
          2,
          2,
          2,
          2,
          2,
          2,
          2,
          2,
          2,
          2,
          6,
          6,
          6,
          6,
          6,
          6,
          6,
          6,
          6,
          6,
          20,
          20,
          20,
          20,
          20,
          20,
          20,
          20,
          20,
          20,
          10,
          10,
          10,
          10,
          10,
          10,
          10,
          10,
          10,
          10,
          14,
          14,
          14,
          14,
          14,
          14,
          14,
          14,
          14,
          14,
          18,
          18,
          18,
          18,
          18,
          18,
          18,
          18,
          18,
          18,
          16,
          16,
          16,
          16,
          16,
          16,
          16,
          16,
          16,
          16,
          12,
          12,
          12,
          12,
          12,
          12,
          12,
          12,
          12,
          12,
          4,
          4,
          4,
          4,
          4,
          4,
          4,
          4,
          4,
          4,
          8,
          8,
          8,
          8,
          8,
          8,
          8,
          8,
          8,
          8
         ],
         "x0": " ",
         "xaxis": "x",
         "y": [
          4960,
          4964,
          4968,
          4997,
          5026,
          5046,
          5054,
          5112,
          5161,
          5177,
          4968,
          4977,
          4981,
          5005,
          5022,
          5026,
          5054,
          5067,
          5100,
          5116,
          5014,
          5161,
          5202,
          5288,
          5304,
          5308,
          5333,
          5345,
          5353,
          5411,
          5206,
          5226,
          5251,
          5251,
          5259,
          5259,
          5267,
          5272,
          5296,
          5337,
          5169,
          5214,
          5239,
          5243,
          5243,
          5247,
          5259,
          5284,
          5304,
          5390,
          5104,
          5313,
          5329,
          5366,
          5423,
          5423,
          5423,
          5476,
          5526,
          5526,
          5280,
          5390,
          5603,
          5612,
          5661,
          5788,
          5792,
          5853,
          5853,
          5980,
          5014,
          5067,
          5423,
          5452,
          5452,
          5464,
          5468,
          5485,
          5517,
          5542,
          4968,
          4973,
          5005,
          5038,
          5042,
          5050,
          5079,
          5100,
          5112,
          5136,
          4977,
          5063,
          5112,
          5157,
          5194,
          5218,
          5255,
          5255,
          5255,
          5263
         ],
         "y0": " ",
         "yaxis": "y"
        },
        {
         "alignmentgroup": "True",
         "hovertemplate": "version=Swift Inheritance<br>Class count=%{x}<br>Time (μs)=%{y}<extra></extra>",
         "legendgroup": "Swift Inheritance",
         "marker": {
          "color": "#EF553B"
         },
         "name": "Swift Inheritance",
         "notched": false,
         "offsetgroup": "Swift Inheritance",
         "orientation": "v",
         "showlegend": true,
         "type": "box",
         "x": [
          6,
          6,
          6,
          6,
          6,
          6,
          6,
          6,
          6,
          6,
          2,
          2,
          2,
          2,
          2,
          2,
          2,
          2,
          2,
          2,
          16,
          16,
          16,
          16,
          16,
          16,
          16,
          16,
          16,
          16,
          12,
          12,
          12,
          12,
          12,
          12,
          12,
          12,
          12,
          12,
          10,
          10,
          10,
          10,
          10,
          10,
          10,
          10,
          10,
          10,
          14,
          14,
          14,
          14,
          14,
          14,
          14,
          14,
          14,
          14,
          18,
          18,
          18,
          18,
          18,
          18,
          18,
          18,
          18,
          18,
          8,
          8,
          8,
          8,
          8,
          8,
          8,
          8,
          8,
          8,
          20,
          20,
          20,
          20,
          20,
          20,
          20,
          20,
          20,
          20,
          4,
          4,
          4,
          4,
          4,
          4,
          4,
          4,
          4,
          4
         ],
         "x0": " ",
         "xaxis": "x",
         "y": [
          27001,
          27427,
          27787,
          27820,
          28049,
          28082,
          28148,
          29049,
          29213,
          32457,
          19153,
          19350,
          19743,
          19759,
          19775,
          19775,
          20103,
          22102,
          22921,
          23626,
          18776,
          18858,
          18874,
          18891,
          18924,
          18956,
          19038,
          19251,
          19464,
          21086,
          19055,
          19087,
          19153,
          19169,
          19169,
          19186,
          19202,
          19218,
          19284,
          19333,
          19071,
          19071,
          19137,
          19186,
          19202,
          19235,
          19235,
          19251,
          19317,
          19595,
          19153,
          19153,
          19284,
          19350,
          19366,
          19382,
          19431,
          19448,
          19530,
          21479,
          18727,
          18809,
          18858,
          19005,
          19055,
          19071,
          19792,
          20529,
          21676,
          23544,
          19055,
          19104,
          19497,
          19677,
          19972,
          20103,
          21168,
          21512,
          22348,
          23953,
          19890,
          19907,
          19923,
          19939,
          19939,
          19972,
          19988,
          20120,
          20120,
          20136,
          19710,
          20038,
          20136,
          20152,
          21463,
          23085,
          23364,
          23544,
          23642,
          23675
         ],
         "y0": " ",
         "yaxis": "y"
        },
        {
         "alignmentgroup": "True",
         "hovertemplate": "version=Scala Existential<br>Class count=%{x}<br>Time (μs)=%{y}<extra></extra>",
         "legendgroup": "Scala Existential",
         "marker": {
          "color": "#00cc96"
         },
         "name": "Scala Existential",
         "notched": false,
         "offsetgroup": "Scala Existential",
         "orientation": "v",
         "showlegend": true,
         "type": "box",
         "x": [
          2,
          2,
          2,
          2,
          2,
          2,
          2,
          2,
          2,
          2,
          4,
          4,
          4,
          4,
          4,
          4,
          4,
          4,
          4,
          4,
          6,
          6,
          6,
          6,
          6,
          6,
          6,
          6,
          6,
          6,
          8,
          8,
          8,
          8,
          8,
          8,
          8,
          8,
          8,
          8,
          10,
          10,
          10,
          10,
          10,
          10,
          10,
          10,
          10,
          10,
          12,
          12,
          12,
          12,
          12,
          12,
          12,
          12,
          12,
          12,
          14,
          14,
          14,
          14,
          14,
          14,
          14,
          14,
          14,
          14,
          16,
          16,
          16,
          16,
          16,
          16,
          16,
          16,
          16,
          16,
          18,
          18,
          18,
          18,
          18,
          18,
          18,
          18,
          18,
          18,
          20,
          20,
          20,
          20,
          20,
          20,
          20,
          20,
          20,
          20
         ],
         "x0": " ",
         "xaxis": "x",
         "y": [
          6952,
          5939,
          7256,
          6826,
          6498,
          5207,
          5965,
          7411,
          6064,
          6939,
          5455,
          5238,
          5108,
          5733,
          5614,
          5249,
          5488,
          5817,
          5665,
          5879,
          13420,
          10059,
          8380,
          6871,
          5749,
          5753,
          5610,
          5807,
          9034,
          7132,
          7047,
          7377,
          7229,
          7633,
          6624,
          6548,
          6967,
          7165,
          7197,
          6826,
          9711,
          9292,
          9264,
          8996,
          11663,
          9099,
          8728,
          9321,
          11446,
          13555,
          8616,
          10276,
          9023,
          10702,
          9552,
          8848,
          9152,
          10113,
          10234,
          9511,
          8391,
          8388,
          10188,
          9977,
          8294,
          8781,
          9133,
          8713,
          10314,
          10172,
          8278,
          8368,
          8316,
          9917,
          10206,
          9114,
          9444,
          10296,
          10130,
          8270,
          9906,
          9843,
          9942,
          9682,
          9473,
          9693,
          9864,
          8931,
          9158,
          9158,
          11645,
          12059,
          10630,
          10975,
          11664,
          10950,
          11201,
          10779,
          10623,
          10149
         ],
         "y0": " ",
         "yaxis": "y"
        },
        {
         "alignmentgroup": "True",
         "hovertemplate": "version=Scala Inheritance<br>Class count=%{x}<br>Time (μs)=%{y}<extra></extra>",
         "legendgroup": "Scala Inheritance",
         "marker": {
          "color": "#ab63fa"
         },
         "name": "Scala Inheritance",
         "notched": false,
         "offsetgroup": "Scala Inheritance",
         "orientation": "v",
         "showlegend": true,
         "type": "box",
         "x": [
          2,
          2,
          2,
          2,
          2,
          2,
          2,
          2,
          2,
          2,
          4,
          4,
          4,
          4,
          4,
          4,
          4,
          4,
          4,
          4,
          6,
          6,
          6,
          6,
          6,
          6,
          6,
          6,
          6,
          6,
          8,
          8,
          8,
          8,
          8,
          8,
          8,
          8,
          8,
          8,
          10,
          10,
          10,
          10,
          10,
          10,
          10,
          10,
          10,
          10,
          12,
          12,
          12,
          12,
          12,
          12,
          12,
          12,
          12,
          12,
          14,
          14,
          14,
          14,
          14,
          14,
          14,
          14,
          14,
          14,
          16,
          16,
          16,
          16,
          16,
          16,
          16,
          16,
          16,
          16,
          18,
          18,
          18,
          18,
          18,
          18,
          18,
          18,
          18,
          18,
          20,
          20,
          20,
          20,
          20,
          20,
          20,
          20,
          20,
          20
         ],
         "x0": " ",
         "xaxis": "x",
         "y": [
          4221,
          3321,
          3669,
          3172,
          3028,
          3546,
          3066,
          3014,
          2939,
          2935,
          2525,
          2804,
          2705,
          2803,
          2713,
          2758,
          2585,
          2619,
          2638,
          2652,
          3058,
          2888,
          3307,
          2968,
          3290,
          3325,
          3033,
          2977,
          3028,
          3156,
          3387,
          3676,
          3807,
          3734,
          3744,
          3732,
          3741,
          3753,
          3711,
          3400,
          4637,
          4452,
          4428,
          4537,
          4375,
          4405,
          4644,
          4281,
          4786,
          4319,
          4460,
          4989,
          4954,
          4610,
          4414,
          4882,
          4456,
          4699,
          4214,
          4567,
          4290,
          4762,
          4793,
          4248,
          4747,
          4827,
          5871,
          4513,
          3990,
          4524,
          4172,
          4592,
          4113,
          4145,
          4182,
          4758,
          3979,
          4038,
          4562,
          3991,
          4627,
          4565,
          4422,
          4539,
          4087,
          4092,
          4457,
          4583,
          3963,
          4526,
          4937,
          4547,
          5041,
          5033,
          5020,
          5015,
          4369,
          4381,
          4323,
          4818
         ],
         "y0": " ",
         "yaxis": "y"
        }
       ],
       "layout": {
        "boxmode": "group",
        "legend": {
         "title": {
          "text": "version"
         },
         "tracegroupgap": 0
        },
        "template": {
         "data": {
          "bar": [
           {
            "error_x": {
             "color": "#2a3f5f"
            },
            "error_y": {
             "color": "#2a3f5f"
            },
            "marker": {
             "line": {
              "color": "#E5ECF6",
              "width": 0.5
             },
             "pattern": {
              "fillmode": "overlay",
              "size": 10,
              "solidity": 0.2
             }
            },
            "type": "bar"
           }
          ],
          "barpolar": [
           {
            "marker": {
             "line": {
              "color": "#E5ECF6",
              "width": 0.5
             },
             "pattern": {
              "fillmode": "overlay",
              "size": 10,
              "solidity": 0.2
             }
            },
            "type": "barpolar"
           }
          ],
          "carpet": [
           {
            "aaxis": {
             "endlinecolor": "#2a3f5f",
             "gridcolor": "white",
             "linecolor": "white",
             "minorgridcolor": "white",
             "startlinecolor": "#2a3f5f"
            },
            "baxis": {
             "endlinecolor": "#2a3f5f",
             "gridcolor": "white",
             "linecolor": "white",
             "minorgridcolor": "white",
             "startlinecolor": "#2a3f5f"
            },
            "type": "carpet"
           }
          ],
          "choropleth": [
           {
            "colorbar": {
             "outlinewidth": 0,
             "ticks": ""
            },
            "type": "choropleth"
           }
          ],
          "contour": [
           {
            "colorbar": {
             "outlinewidth": 0,
             "ticks": ""
            },
            "colorscale": [
             [
              0,
              "#0d0887"
             ],
             [
              0.1111111111111111,
              "#46039f"
             ],
             [
              0.2222222222222222,
              "#7201a8"
             ],
             [
              0.3333333333333333,
              "#9c179e"
             ],
             [
              0.4444444444444444,
              "#bd3786"
             ],
             [
              0.5555555555555556,
              "#d8576b"
             ],
             [
              0.6666666666666666,
              "#ed7953"
             ],
             [
              0.7777777777777778,
              "#fb9f3a"
             ],
             [
              0.8888888888888888,
              "#fdca26"
             ],
             [
              1,
              "#f0f921"
             ]
            ],
            "type": "contour"
           }
          ],
          "contourcarpet": [
           {
            "colorbar": {
             "outlinewidth": 0,
             "ticks": ""
            },
            "type": "contourcarpet"
           }
          ],
          "heatmap": [
           {
            "colorbar": {
             "outlinewidth": 0,
             "ticks": ""
            },
            "colorscale": [
             [
              0,
              "#0d0887"
             ],
             [
              0.1111111111111111,
              "#46039f"
             ],
             [
              0.2222222222222222,
              "#7201a8"
             ],
             [
              0.3333333333333333,
              "#9c179e"
             ],
             [
              0.4444444444444444,
              "#bd3786"
             ],
             [
              0.5555555555555556,
              "#d8576b"
             ],
             [
              0.6666666666666666,
              "#ed7953"
             ],
             [
              0.7777777777777778,
              "#fb9f3a"
             ],
             [
              0.8888888888888888,
              "#fdca26"
             ],
             [
              1,
              "#f0f921"
             ]
            ],
            "type": "heatmap"
           }
          ],
          "heatmapgl": [
           {
            "colorbar": {
             "outlinewidth": 0,
             "ticks": ""
            },
            "colorscale": [
             [
              0,
              "#0d0887"
             ],
             [
              0.1111111111111111,
              "#46039f"
             ],
             [
              0.2222222222222222,
              "#7201a8"
             ],
             [
              0.3333333333333333,
              "#9c179e"
             ],
             [
              0.4444444444444444,
              "#bd3786"
             ],
             [
              0.5555555555555556,
              "#d8576b"
             ],
             [
              0.6666666666666666,
              "#ed7953"
             ],
             [
              0.7777777777777778,
              "#fb9f3a"
             ],
             [
              0.8888888888888888,
              "#fdca26"
             ],
             [
              1,
              "#f0f921"
             ]
            ],
            "type": "heatmapgl"
           }
          ],
          "histogram": [
           {
            "marker": {
             "pattern": {
              "fillmode": "overlay",
              "size": 10,
              "solidity": 0.2
             }
            },
            "type": "histogram"
           }
          ],
          "histogram2d": [
           {
            "colorbar": {
             "outlinewidth": 0,
             "ticks": ""
            },
            "colorscale": [
             [
              0,
              "#0d0887"
             ],
             [
              0.1111111111111111,
              "#46039f"
             ],
             [
              0.2222222222222222,
              "#7201a8"
             ],
             [
              0.3333333333333333,
              "#9c179e"
             ],
             [
              0.4444444444444444,
              "#bd3786"
             ],
             [
              0.5555555555555556,
              "#d8576b"
             ],
             [
              0.6666666666666666,
              "#ed7953"
             ],
             [
              0.7777777777777778,
              "#fb9f3a"
             ],
             [
              0.8888888888888888,
              "#fdca26"
             ],
             [
              1,
              "#f0f921"
             ]
            ],
            "type": "histogram2d"
           }
          ],
          "histogram2dcontour": [
           {
            "colorbar": {
             "outlinewidth": 0,
             "ticks": ""
            },
            "colorscale": [
             [
              0,
              "#0d0887"
             ],
             [
              0.1111111111111111,
              "#46039f"
             ],
             [
              0.2222222222222222,
              "#7201a8"
             ],
             [
              0.3333333333333333,
              "#9c179e"
             ],
             [
              0.4444444444444444,
              "#bd3786"
             ],
             [
              0.5555555555555556,
              "#d8576b"
             ],
             [
              0.6666666666666666,
              "#ed7953"
             ],
             [
              0.7777777777777778,
              "#fb9f3a"
             ],
             [
              0.8888888888888888,
              "#fdca26"
             ],
             [
              1,
              "#f0f921"
             ]
            ],
            "type": "histogram2dcontour"
           }
          ],
          "mesh3d": [
           {
            "colorbar": {
             "outlinewidth": 0,
             "ticks": ""
            },
            "type": "mesh3d"
           }
          ],
          "parcoords": [
           {
            "line": {
             "colorbar": {
              "outlinewidth": 0,
              "ticks": ""
             }
            },
            "type": "parcoords"
           }
          ],
          "pie": [
           {
            "automargin": true,
            "type": "pie"
           }
          ],
          "scatter": [
           {
            "fillpattern": {
             "fillmode": "overlay",
             "size": 10,
             "solidity": 0.2
            },
            "type": "scatter"
           }
          ],
          "scatter3d": [
           {
            "line": {
             "colorbar": {
              "outlinewidth": 0,
              "ticks": ""
             }
            },
            "marker": {
             "colorbar": {
              "outlinewidth": 0,
              "ticks": ""
             }
            },
            "type": "scatter3d"
           }
          ],
          "scattercarpet": [
           {
            "marker": {
             "colorbar": {
              "outlinewidth": 0,
              "ticks": ""
             }
            },
            "type": "scattercarpet"
           }
          ],
          "scattergeo": [
           {
            "marker": {
             "colorbar": {
              "outlinewidth": 0,
              "ticks": ""
             }
            },
            "type": "scattergeo"
           }
          ],
          "scattergl": [
           {
            "marker": {
             "colorbar": {
              "outlinewidth": 0,
              "ticks": ""
             }
            },
            "type": "scattergl"
           }
          ],
          "scattermapbox": [
           {
            "marker": {
             "colorbar": {
              "outlinewidth": 0,
              "ticks": ""
             }
            },
            "type": "scattermapbox"
           }
          ],
          "scatterpolar": [
           {
            "marker": {
             "colorbar": {
              "outlinewidth": 0,
              "ticks": ""
             }
            },
            "type": "scatterpolar"
           }
          ],
          "scatterpolargl": [
           {
            "marker": {
             "colorbar": {
              "outlinewidth": 0,
              "ticks": ""
             }
            },
            "type": "scatterpolargl"
           }
          ],
          "scatterternary": [
           {
            "marker": {
             "colorbar": {
              "outlinewidth": 0,
              "ticks": ""
             }
            },
            "type": "scatterternary"
           }
          ],
          "surface": [
           {
            "colorbar": {
             "outlinewidth": 0,
             "ticks": ""
            },
            "colorscale": [
             [
              0,
              "#0d0887"
             ],
             [
              0.1111111111111111,
              "#46039f"
             ],
             [
              0.2222222222222222,
              "#7201a8"
             ],
             [
              0.3333333333333333,
              "#9c179e"
             ],
             [
              0.4444444444444444,
              "#bd3786"
             ],
             [
              0.5555555555555556,
              "#d8576b"
             ],
             [
              0.6666666666666666,
              "#ed7953"
             ],
             [
              0.7777777777777778,
              "#fb9f3a"
             ],
             [
              0.8888888888888888,
              "#fdca26"
             ],
             [
              1,
              "#f0f921"
             ]
            ],
            "type": "surface"
           }
          ],
          "table": [
           {
            "cells": {
             "fill": {
              "color": "#EBF0F8"
             },
             "line": {
              "color": "white"
             }
            },
            "header": {
             "fill": {
              "color": "#C8D4E3"
             },
             "line": {
              "color": "white"
             }
            },
            "type": "table"
           }
          ]
         },
         "layout": {
          "annotationdefaults": {
           "arrowcolor": "#2a3f5f",
           "arrowhead": 0,
           "arrowwidth": 1
          },
          "autotypenumbers": "strict",
          "coloraxis": {
           "colorbar": {
            "outlinewidth": 0,
            "ticks": ""
           }
          },
          "colorscale": {
           "diverging": [
            [
             0,
             "#8e0152"
            ],
            [
             0.1,
             "#c51b7d"
            ],
            [
             0.2,
             "#de77ae"
            ],
            [
             0.3,
             "#f1b6da"
            ],
            [
             0.4,
             "#fde0ef"
            ],
            [
             0.5,
             "#f7f7f7"
            ],
            [
             0.6,
             "#e6f5d0"
            ],
            [
             0.7,
             "#b8e186"
            ],
            [
             0.8,
             "#7fbc41"
            ],
            [
             0.9,
             "#4d9221"
            ],
            [
             1,
             "#276419"
            ]
           ],
           "sequential": [
            [
             0,
             "#0d0887"
            ],
            [
             0.1111111111111111,
             "#46039f"
            ],
            [
             0.2222222222222222,
             "#7201a8"
            ],
            [
             0.3333333333333333,
             "#9c179e"
            ],
            [
             0.4444444444444444,
             "#bd3786"
            ],
            [
             0.5555555555555556,
             "#d8576b"
            ],
            [
             0.6666666666666666,
             "#ed7953"
            ],
            [
             0.7777777777777778,
             "#fb9f3a"
            ],
            [
             0.8888888888888888,
             "#fdca26"
            ],
            [
             1,
             "#f0f921"
            ]
           ],
           "sequentialminus": [
            [
             0,
             "#0d0887"
            ],
            [
             0.1111111111111111,
             "#46039f"
            ],
            [
             0.2222222222222222,
             "#7201a8"
            ],
            [
             0.3333333333333333,
             "#9c179e"
            ],
            [
             0.4444444444444444,
             "#bd3786"
            ],
            [
             0.5555555555555556,
             "#d8576b"
            ],
            [
             0.6666666666666666,
             "#ed7953"
            ],
            [
             0.7777777777777778,
             "#fb9f3a"
            ],
            [
             0.8888888888888888,
             "#fdca26"
            ],
            [
             1,
             "#f0f921"
            ]
           ]
          },
          "colorway": [
           "#636efa",
           "#EF553B",
           "#00cc96",
           "#ab63fa",
           "#FFA15A",
           "#19d3f3",
           "#FF6692",
           "#B6E880",
           "#FF97FF",
           "#FECB52"
          ],
          "font": {
           "color": "#2a3f5f"
          },
          "geo": {
           "bgcolor": "white",
           "lakecolor": "white",
           "landcolor": "#E5ECF6",
           "showlakes": true,
           "showland": true,
           "subunitcolor": "white"
          },
          "hoverlabel": {
           "align": "left"
          },
          "hovermode": "closest",
          "mapbox": {
           "style": "light"
          },
          "paper_bgcolor": "white",
          "plot_bgcolor": "#E5ECF6",
          "polar": {
           "angularaxis": {
            "gridcolor": "white",
            "linecolor": "white",
            "ticks": ""
           },
           "bgcolor": "#E5ECF6",
           "radialaxis": {
            "gridcolor": "white",
            "linecolor": "white",
            "ticks": ""
           }
          },
          "scene": {
           "xaxis": {
            "backgroundcolor": "#E5ECF6",
            "gridcolor": "white",
            "gridwidth": 2,
            "linecolor": "white",
            "showbackground": true,
            "ticks": "",
            "zerolinecolor": "white"
           },
           "yaxis": {
            "backgroundcolor": "#E5ECF6",
            "gridcolor": "white",
            "gridwidth": 2,
            "linecolor": "white",
            "showbackground": true,
            "ticks": "",
            "zerolinecolor": "white"
           },
           "zaxis": {
            "backgroundcolor": "#E5ECF6",
            "gridcolor": "white",
            "gridwidth": 2,
            "linecolor": "white",
            "showbackground": true,
            "ticks": "",
            "zerolinecolor": "white"
           }
          },
          "shapedefaults": {
           "line": {
            "color": "#2a3f5f"
           }
          },
          "ternary": {
           "aaxis": {
            "gridcolor": "white",
            "linecolor": "white",
            "ticks": ""
           },
           "baxis": {
            "gridcolor": "white",
            "linecolor": "white",
            "ticks": ""
           },
           "bgcolor": "#E5ECF6",
           "caxis": {
            "gridcolor": "white",
            "linecolor": "white",
            "ticks": ""
           }
          },
          "title": {
           "x": 0.05
          },
          "xaxis": {
           "automargin": true,
           "gridcolor": "white",
           "linecolor": "white",
           "ticks": "",
           "title": {
            "standoff": 15
           },
           "zerolinecolor": "white",
           "zerolinewidth": 2
          },
          "yaxis": {
           "automargin": true,
           "gridcolor": "white",
           "linecolor": "white",
           "ticks": "",
           "title": {
            "standoff": 15
           },
           "zerolinecolor": "white",
           "zerolinewidth": 2
          }
         }
        },
        "title": {
         "text": "Dispatch Benchmark"
        },
        "xaxis": {
         "anchor": "y",
         "domain": [
          0,
          1
         ],
         "tickmode": "array",
         "tickvals": [
          2,
          6,
          20,
          16,
          10,
          14,
          12,
          18,
          4,
          8
         ],
         "title": {
          "text": "Class count"
         }
        },
        "yaxis": {
         "anchor": "x",
         "domain": [
          0,
          1
         ],
         "title": {
          "text": "Time (μs)"
         }
        }
       }
      }
     },
     "metadata": {},
     "output_type": "display_data"
    }
   ],
   "source": [
    "fig = px.box(dispatch, x='Class count', y='Time (μs)', color='version', title='Dispatch Benchmark')\n",
    "fig.update_layout(xaxis=dict(tickmode='array', tickvals=dispatch['Class count'].unique()))\n",
    "fig"
   ]
  },
  {
   "cell_type": "code",
   "execution_count": 9,
   "metadata": {},
   "outputs": [
    {
     "data": {
      "application/vnd.plotly.v1+json": {
       "config": {
        "plotlyServerURL": "https://plot.ly"
       },
       "data": [
        {
         "alignmentgroup": "True",
         "box": {
          "visible": false
         },
         "hovertemplate": "version=Swift Existential<br>Time (μs)=%{x}<extra></extra>",
         "legendgroup": "Swift Existential",
         "marker": {
          "color": "#636efa"
         },
         "name": "Swift Existential",
         "offsetgroup": "Swift Existential",
         "orientation": "h",
         "scalegroup": "True",
         "showlegend": true,
         "type": "violin",
         "x": [
          24510,
          24674,
          24887,
          24904,
          25166,
          25166,
          25199,
          25362,
          25362,
          25575
         ],
         "x0": " ",
         "xaxis": "x",
         "y0": " ",
         "yaxis": "y"
        },
        {
         "alignmentgroup": "True",
         "box": {
          "visible": false
         },
         "hovertemplate": "version=Swift Inheritance<br>Time (μs)=%{x}<extra></extra>",
         "legendgroup": "Swift Inheritance",
         "marker": {
          "color": "#EF553B"
         },
         "name": "Swift Inheritance",
         "offsetgroup": "Swift Inheritance",
         "orientation": "h",
         "scalegroup": "True",
         "showlegend": true,
         "type": "violin",
         "x": [
          34898,
          35488,
          35619,
          35815,
          36143,
          36405,
          36438,
          37356,
          44827,
          45908
         ],
         "x0": " ",
         "xaxis": "x",
         "y0": " ",
         "yaxis": "y"
        },
        {
         "alignmentgroup": "True",
         "box": {
          "visible": false
         },
         "hovertemplate": "version=Scala Existential<br>Time (μs)=%{x}<extra></extra>",
         "legendgroup": "Scala Existential",
         "marker": {
          "color": "#00cc96"
         },
         "name": "Scala Existential",
         "offsetgroup": "Scala Existential",
         "orientation": "h",
         "scalegroup": "True",
         "showlegend": true,
         "type": "violin",
         "x": [
          48018,
          47007,
          49499,
          48869,
          47449,
          47201,
          47670,
          47737,
          47509,
          47479
         ],
         "x0": " ",
         "xaxis": "x",
         "y0": " ",
         "yaxis": "y"
        },
        {
         "alignmentgroup": "True",
         "box": {
          "visible": false
         },
         "hovertemplate": "version=Scala Inheritance<br>Time (μs)=%{x}<extra></extra>",
         "legendgroup": "Scala Inheritance",
         "marker": {
          "color": "#ab63fa"
         },
         "name": "Scala Inheritance",
         "offsetgroup": "Scala Inheritance",
         "orientation": "h",
         "scalegroup": "True",
         "showlegend": true,
         "type": "violin",
         "x": [
          46132,
          46808,
          43777,
          45339,
          44487,
          44051,
          44470,
          44834,
          47830,
          51019
         ],
         "x0": " ",
         "xaxis": "x",
         "y0": " ",
         "yaxis": "y"
        }
       ],
       "layout": {
        "height": 800,
        "legend": {
         "title": {
          "text": "version"
         },
         "tracegroupgap": 0
        },
        "template": {
         "data": {
          "bar": [
           {
            "error_x": {
             "color": "#2a3f5f"
            },
            "error_y": {
             "color": "#2a3f5f"
            },
            "marker": {
             "line": {
              "color": "#E5ECF6",
              "width": 0.5
             },
             "pattern": {
              "fillmode": "overlay",
              "size": 10,
              "solidity": 0.2
             }
            },
            "type": "bar"
           }
          ],
          "barpolar": [
           {
            "marker": {
             "line": {
              "color": "#E5ECF6",
              "width": 0.5
             },
             "pattern": {
              "fillmode": "overlay",
              "size": 10,
              "solidity": 0.2
             }
            },
            "type": "barpolar"
           }
          ],
          "carpet": [
           {
            "aaxis": {
             "endlinecolor": "#2a3f5f",
             "gridcolor": "white",
             "linecolor": "white",
             "minorgridcolor": "white",
             "startlinecolor": "#2a3f5f"
            },
            "baxis": {
             "endlinecolor": "#2a3f5f",
             "gridcolor": "white",
             "linecolor": "white",
             "minorgridcolor": "white",
             "startlinecolor": "#2a3f5f"
            },
            "type": "carpet"
           }
          ],
          "choropleth": [
           {
            "colorbar": {
             "outlinewidth": 0,
             "ticks": ""
            },
            "type": "choropleth"
           }
          ],
          "contour": [
           {
            "colorbar": {
             "outlinewidth": 0,
             "ticks": ""
            },
            "colorscale": [
             [
              0,
              "#0d0887"
             ],
             [
              0.1111111111111111,
              "#46039f"
             ],
             [
              0.2222222222222222,
              "#7201a8"
             ],
             [
              0.3333333333333333,
              "#9c179e"
             ],
             [
              0.4444444444444444,
              "#bd3786"
             ],
             [
              0.5555555555555556,
              "#d8576b"
             ],
             [
              0.6666666666666666,
              "#ed7953"
             ],
             [
              0.7777777777777778,
              "#fb9f3a"
             ],
             [
              0.8888888888888888,
              "#fdca26"
             ],
             [
              1,
              "#f0f921"
             ]
            ],
            "type": "contour"
           }
          ],
          "contourcarpet": [
           {
            "colorbar": {
             "outlinewidth": 0,
             "ticks": ""
            },
            "type": "contourcarpet"
           }
          ],
          "heatmap": [
           {
            "colorbar": {
             "outlinewidth": 0,
             "ticks": ""
            },
            "colorscale": [
             [
              0,
              "#0d0887"
             ],
             [
              0.1111111111111111,
              "#46039f"
             ],
             [
              0.2222222222222222,
              "#7201a8"
             ],
             [
              0.3333333333333333,
              "#9c179e"
             ],
             [
              0.4444444444444444,
              "#bd3786"
             ],
             [
              0.5555555555555556,
              "#d8576b"
             ],
             [
              0.6666666666666666,
              "#ed7953"
             ],
             [
              0.7777777777777778,
              "#fb9f3a"
             ],
             [
              0.8888888888888888,
              "#fdca26"
             ],
             [
              1,
              "#f0f921"
             ]
            ],
            "type": "heatmap"
           }
          ],
          "heatmapgl": [
           {
            "colorbar": {
             "outlinewidth": 0,
             "ticks": ""
            },
            "colorscale": [
             [
              0,
              "#0d0887"
             ],
             [
              0.1111111111111111,
              "#46039f"
             ],
             [
              0.2222222222222222,
              "#7201a8"
             ],
             [
              0.3333333333333333,
              "#9c179e"
             ],
             [
              0.4444444444444444,
              "#bd3786"
             ],
             [
              0.5555555555555556,
              "#d8576b"
             ],
             [
              0.6666666666666666,
              "#ed7953"
             ],
             [
              0.7777777777777778,
              "#fb9f3a"
             ],
             [
              0.8888888888888888,
              "#fdca26"
             ],
             [
              1,
              "#f0f921"
             ]
            ],
            "type": "heatmapgl"
           }
          ],
          "histogram": [
           {
            "marker": {
             "pattern": {
              "fillmode": "overlay",
              "size": 10,
              "solidity": 0.2
             }
            },
            "type": "histogram"
           }
          ],
          "histogram2d": [
           {
            "colorbar": {
             "outlinewidth": 0,
             "ticks": ""
            },
            "colorscale": [
             [
              0,
              "#0d0887"
             ],
             [
              0.1111111111111111,
              "#46039f"
             ],
             [
              0.2222222222222222,
              "#7201a8"
             ],
             [
              0.3333333333333333,
              "#9c179e"
             ],
             [
              0.4444444444444444,
              "#bd3786"
             ],
             [
              0.5555555555555556,
              "#d8576b"
             ],
             [
              0.6666666666666666,
              "#ed7953"
             ],
             [
              0.7777777777777778,
              "#fb9f3a"
             ],
             [
              0.8888888888888888,
              "#fdca26"
             ],
             [
              1,
              "#f0f921"
             ]
            ],
            "type": "histogram2d"
           }
          ],
          "histogram2dcontour": [
           {
            "colorbar": {
             "outlinewidth": 0,
             "ticks": ""
            },
            "colorscale": [
             [
              0,
              "#0d0887"
             ],
             [
              0.1111111111111111,
              "#46039f"
             ],
             [
              0.2222222222222222,
              "#7201a8"
             ],
             [
              0.3333333333333333,
              "#9c179e"
             ],
             [
              0.4444444444444444,
              "#bd3786"
             ],
             [
              0.5555555555555556,
              "#d8576b"
             ],
             [
              0.6666666666666666,
              "#ed7953"
             ],
             [
              0.7777777777777778,
              "#fb9f3a"
             ],
             [
              0.8888888888888888,
              "#fdca26"
             ],
             [
              1,
              "#f0f921"
             ]
            ],
            "type": "histogram2dcontour"
           }
          ],
          "mesh3d": [
           {
            "colorbar": {
             "outlinewidth": 0,
             "ticks": ""
            },
            "type": "mesh3d"
           }
          ],
          "parcoords": [
           {
            "line": {
             "colorbar": {
              "outlinewidth": 0,
              "ticks": ""
             }
            },
            "type": "parcoords"
           }
          ],
          "pie": [
           {
            "automargin": true,
            "type": "pie"
           }
          ],
          "scatter": [
           {
            "fillpattern": {
             "fillmode": "overlay",
             "size": 10,
             "solidity": 0.2
            },
            "type": "scatter"
           }
          ],
          "scatter3d": [
           {
            "line": {
             "colorbar": {
              "outlinewidth": 0,
              "ticks": ""
             }
            },
            "marker": {
             "colorbar": {
              "outlinewidth": 0,
              "ticks": ""
             }
            },
            "type": "scatter3d"
           }
          ],
          "scattercarpet": [
           {
            "marker": {
             "colorbar": {
              "outlinewidth": 0,
              "ticks": ""
             }
            },
            "type": "scattercarpet"
           }
          ],
          "scattergeo": [
           {
            "marker": {
             "colorbar": {
              "outlinewidth": 0,
              "ticks": ""
             }
            },
            "type": "scattergeo"
           }
          ],
          "scattergl": [
           {
            "marker": {
             "colorbar": {
              "outlinewidth": 0,
              "ticks": ""
             }
            },
            "type": "scattergl"
           }
          ],
          "scattermapbox": [
           {
            "marker": {
             "colorbar": {
              "outlinewidth": 0,
              "ticks": ""
             }
            },
            "type": "scattermapbox"
           }
          ],
          "scatterpolar": [
           {
            "marker": {
             "colorbar": {
              "outlinewidth": 0,
              "ticks": ""
             }
            },
            "type": "scatterpolar"
           }
          ],
          "scatterpolargl": [
           {
            "marker": {
             "colorbar": {
              "outlinewidth": 0,
              "ticks": ""
             }
            },
            "type": "scatterpolargl"
           }
          ],
          "scatterternary": [
           {
            "marker": {
             "colorbar": {
              "outlinewidth": 0,
              "ticks": ""
             }
            },
            "type": "scatterternary"
           }
          ],
          "surface": [
           {
            "colorbar": {
             "outlinewidth": 0,
             "ticks": ""
            },
            "colorscale": [
             [
              0,
              "#0d0887"
             ],
             [
              0.1111111111111111,
              "#46039f"
             ],
             [
              0.2222222222222222,
              "#7201a8"
             ],
             [
              0.3333333333333333,
              "#9c179e"
             ],
             [
              0.4444444444444444,
              "#bd3786"
             ],
             [
              0.5555555555555556,
              "#d8576b"
             ],
             [
              0.6666666666666666,
              "#ed7953"
             ],
             [
              0.7777777777777778,
              "#fb9f3a"
             ],
             [
              0.8888888888888888,
              "#fdca26"
             ],
             [
              1,
              "#f0f921"
             ]
            ],
            "type": "surface"
           }
          ],
          "table": [
           {
            "cells": {
             "fill": {
              "color": "#EBF0F8"
             },
             "line": {
              "color": "white"
             }
            },
            "header": {
             "fill": {
              "color": "#C8D4E3"
             },
             "line": {
              "color": "white"
             }
            },
            "type": "table"
           }
          ]
         },
         "layout": {
          "annotationdefaults": {
           "arrowcolor": "#2a3f5f",
           "arrowhead": 0,
           "arrowwidth": 1
          },
          "autotypenumbers": "strict",
          "coloraxis": {
           "colorbar": {
            "outlinewidth": 0,
            "ticks": ""
           }
          },
          "colorscale": {
           "diverging": [
            [
             0,
             "#8e0152"
            ],
            [
             0.1,
             "#c51b7d"
            ],
            [
             0.2,
             "#de77ae"
            ],
            [
             0.3,
             "#f1b6da"
            ],
            [
             0.4,
             "#fde0ef"
            ],
            [
             0.5,
             "#f7f7f7"
            ],
            [
             0.6,
             "#e6f5d0"
            ],
            [
             0.7,
             "#b8e186"
            ],
            [
             0.8,
             "#7fbc41"
            ],
            [
             0.9,
             "#4d9221"
            ],
            [
             1,
             "#276419"
            ]
           ],
           "sequential": [
            [
             0,
             "#0d0887"
            ],
            [
             0.1111111111111111,
             "#46039f"
            ],
            [
             0.2222222222222222,
             "#7201a8"
            ],
            [
             0.3333333333333333,
             "#9c179e"
            ],
            [
             0.4444444444444444,
             "#bd3786"
            ],
            [
             0.5555555555555556,
             "#d8576b"
            ],
            [
             0.6666666666666666,
             "#ed7953"
            ],
            [
             0.7777777777777778,
             "#fb9f3a"
            ],
            [
             0.8888888888888888,
             "#fdca26"
            ],
            [
             1,
             "#f0f921"
            ]
           ],
           "sequentialminus": [
            [
             0,
             "#0d0887"
            ],
            [
             0.1111111111111111,
             "#46039f"
            ],
            [
             0.2222222222222222,
             "#7201a8"
            ],
            [
             0.3333333333333333,
             "#9c179e"
            ],
            [
             0.4444444444444444,
             "#bd3786"
            ],
            [
             0.5555555555555556,
             "#d8576b"
            ],
            [
             0.6666666666666666,
             "#ed7953"
            ],
            [
             0.7777777777777778,
             "#fb9f3a"
            ],
            [
             0.8888888888888888,
             "#fdca26"
            ],
            [
             1,
             "#f0f921"
            ]
           ]
          },
          "colorway": [
           "#636efa",
           "#EF553B",
           "#00cc96",
           "#ab63fa",
           "#FFA15A",
           "#19d3f3",
           "#FF6692",
           "#B6E880",
           "#FF97FF",
           "#FECB52"
          ],
          "font": {
           "color": "#2a3f5f"
          },
          "geo": {
           "bgcolor": "white",
           "lakecolor": "white",
           "landcolor": "#E5ECF6",
           "showlakes": true,
           "showland": true,
           "subunitcolor": "white"
          },
          "hoverlabel": {
           "align": "left"
          },
          "hovermode": "closest",
          "mapbox": {
           "style": "light"
          },
          "paper_bgcolor": "white",
          "plot_bgcolor": "#E5ECF6",
          "polar": {
           "angularaxis": {
            "gridcolor": "white",
            "linecolor": "white",
            "ticks": ""
           },
           "bgcolor": "#E5ECF6",
           "radialaxis": {
            "gridcolor": "white",
            "linecolor": "white",
            "ticks": ""
           }
          },
          "scene": {
           "xaxis": {
            "backgroundcolor": "#E5ECF6",
            "gridcolor": "white",
            "gridwidth": 2,
            "linecolor": "white",
            "showbackground": true,
            "ticks": "",
            "zerolinecolor": "white"
           },
           "yaxis": {
            "backgroundcolor": "#E5ECF6",
            "gridcolor": "white",
            "gridwidth": 2,
            "linecolor": "white",
            "showbackground": true,
            "ticks": "",
            "zerolinecolor": "white"
           },
           "zaxis": {
            "backgroundcolor": "#E5ECF6",
            "gridcolor": "white",
            "gridwidth": 2,
            "linecolor": "white",
            "showbackground": true,
            "ticks": "",
            "zerolinecolor": "white"
           }
          },
          "shapedefaults": {
           "line": {
            "color": "#2a3f5f"
           }
          },
          "ternary": {
           "aaxis": {
            "gridcolor": "white",
            "linecolor": "white",
            "ticks": ""
           },
           "baxis": {
            "gridcolor": "white",
            "linecolor": "white",
            "ticks": ""
           },
           "bgcolor": "#E5ECF6",
           "caxis": {
            "gridcolor": "white",
            "linecolor": "white",
            "ticks": ""
           }
          },
          "title": {
           "x": 0.05
          },
          "xaxis": {
           "automargin": true,
           "gridcolor": "white",
           "linecolor": "white",
           "ticks": "",
           "title": {
            "standoff": 15
           },
           "zerolinecolor": "white",
           "zerolinewidth": 2
          },
          "yaxis": {
           "automargin": true,
           "gridcolor": "white",
           "linecolor": "white",
           "ticks": "",
           "title": {
            "standoff": 15
           },
           "zerolinecolor": "white",
           "zerolinewidth": 2
          }
         }
        },
        "title": {
         "text": "Rays Benchmark"
        },
        "violinmode": "group",
        "xaxis": {
         "anchor": "y",
         "domain": [
          0,
          1
         ],
         "title": {
          "text": "Time (μs)"
         }
        },
        "yaxis": {
         "anchor": "x",
         "domain": [
          0,
          1
         ]
        }
       }
      }
     },
     "metadata": {},
     "output_type": "display_data"
    }
   ],
   "source": [
    "px.violin(rays, x='Time (μs)', color='version', title='Rays Benchmark', orientation='h', height=800)"
   ]
  },
  {
   "cell_type": "code",
   "execution_count": 10,
   "metadata": {},
   "outputs": [
    {
     "data": {
      "image/png": "[encoded data removed]",
      "text/plain": [
       "<Figure size 1170.5x500 with 1 Axes>"
      ]
     },
     "metadata": {},
     "output_type": "display_data"
    }
   ],
   "source": [
    "sns.catplot(data=rays, x='Time (μs)', hue='version', kind=\"box\", height=5, aspect=2)\n",
    "plt.title('Rays Benchmark')\n",
    "plt.show()"
   ]
  },
  {
   "cell_type": "code",
   "execution_count": 11,
   "metadata": {},
   "outputs": [
    {
     "data": {
      "text/plain": [
       "<seaborn.axisgrid.FacetGrid at 0x12bd1f6b0>"
      ]
     },
     "execution_count": 11,
     "metadata": {},
     "output_type": "execute_result"
    },
    {
     "data": {
      "image/png": "[encoded data removed]",
      "text/plain": [
       "<Figure size 1170.5x500 with 1 Axes>"
      ]
     },
     "metadata": {},
     "output_type": "display_data"
    }
   ],
   "source": [
    "sns.catplot(data=rays, x='Time (μs)', hue='version', kind=\"violin\", height=5, aspect=2, orient='h')"
   ]
  },
  {
   "cell_type": "code",
   "execution_count": 12,
   "metadata": {},
   "outputs": [
    {
     "data": {
      "image/png": "[encoded data removed]",
      "text/plain": [
       "<Figure size 1170.5x500 with 1 Axes>"
      ]
     },
     "metadata": {},
     "output_type": "display_data"
    }
   ],
   "source": [
    "sns.catplot(data=dispatch, x='Class count', y='Time (μs)', hue='version', kind=\"box\", height=5, aspect=2)\n",
    "plt.title('Dispatch Benchmark')\n",
    "plt.show()"
   ]
  },
  {
   "cell_type": "code",
   "execution_count": 13,
   "metadata": {},
   "outputs": [
    {
     "data": {
      "image/png": "[encoded data removed]",
      "text/plain": [
       "<Figure size 1170.5x500 with 1 Axes>"
      ]
     },
     "metadata": {},
     "output_type": "display_data"
    }
   ],
   "source": [
    "sns.catplot(data=dispatch, x='Class count', y='Time (μs)', hue='version', kind=\"violin\", height=5, aspect=2, inner=None)\n",
    "plt.title('Dispatch Benchmark')\n",
    "plt.show()"
   ]
  },
  {
   "cell_type": "code",
   "execution_count": null,
   "metadata": {},
   "outputs": [],
   "source": []
  }
 ],
 "metadata": {
  "kernelspec": {
   "display_name": "env",
   "language": "python",
   "name": "python3"
  },
  "language_info": {
   "codemirror_mode": {
    "name": "ipython",
    "version": 3
   },
   "file_extension": ".py",
   "mimetype": "text/x-python",
   "name": "python",
   "nbconvert_exporter": "python",
   "pygments_lexer": "ipython3",
   "version": "3.12.3"
  }
 },
 "nbformat": 4,
 "nbformat_minor": 2
}
